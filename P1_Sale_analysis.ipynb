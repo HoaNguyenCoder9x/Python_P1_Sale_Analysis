{
  "nbformat": 4,
  "nbformat_minor": 0,
  "metadata": {
    "colab": {
      "name": "P1.Sale_analysis.ipynb",
      "provenance": [],
      "authorship_tag": "ABX9TyMFbXSzfmwS2DmP/fDIp7rC",
      "include_colab_link": true
    },
    "kernelspec": {
      "name": "python3",
      "display_name": "Python 3"
    },
    "language_info": {
      "name": "python"
    }
  },
  "cells": [
    {
      "cell_type": "markdown",
      "metadata": {
        "id": "view-in-github",
        "colab_type": "text"
      },
      "source": [
        "<a href=\"https://colab.research.google.com/github/HoaNguyenCoder9x/Python_P1_Sale_Analysis/blob/main/P1_Sale_analysis.ipynb\" target=\"_parent\"><img src=\"https://colab.research.google.com/assets/colab-badge.svg\" alt=\"Open In Colab\"/></a>"
      ]
    },
    {
      "cell_type": "markdown",
      "metadata": {
        "id": "wPIMHGKFnaN7"
      },
      "source": [
        "### **IMPORT LIBRARY**"
      ]
    },
    {
      "cell_type": "code",
      "metadata": {
        "id": "zz4gGtleoTN6"
      },
      "source": [
        "import pandas as pd\n",
        "import numpy as np\n",
        "import seaborn as sns\n",
        "import matplotlib.pyplot as plt\n",
        "import os"
      ],
      "execution_count": 22,
      "outputs": []
    },
    {
      "cell_type": "markdown",
      "metadata": {
        "id": "OkDUKtKLnqgC"
      },
      "source": [
        "### **CLONE DATA FROM GITHUB**"
      ]
    },
    {
      "cell_type": "code",
      "metadata": {
        "id": "LfRAL1JhoV3M",
        "colab": {
          "base_uri": "https://localhost:8080/"
        },
        "outputId": "85f20e54-8462-44f1-938e-13a9d6580fe7"
      },
      "source": [
        "!git clone https://github.com/boringPpl/Sales-Reporting.git\n"
      ],
      "execution_count": 2,
      "outputs": [
        {
          "output_type": "stream",
          "text": [
            "Cloning into 'Sales-Reporting'...\n",
            "remote: Enumerating objects: 21, done.\u001b[K\n",
            "remote: Counting objects: 100% (21/21), done.\u001b[K\n",
            "remote: Compressing objects: 100% (9/9), done.\u001b[K\n",
            "remote: Total 21 (delta 11), reused 18 (delta 11), pack-reused 0\u001b[K\n",
            "Unpacking objects: 100% (21/21), done.\n"
          ],
          "name": "stdout"
        }
      ]
    },
    {
      "cell_type": "markdown",
      "metadata": {
        "id": "p_jvPusinzQh"
      },
      "source": [
        "### **DATA SYNTHESIS**\n"
      ]
    },
    {
      "cell_type": "code",
      "metadata": {
        "id": "mCYgt07FonzY"
      },
      "source": [
        "# example /content/Sales-Reporting/data/sales2019_1.csv\n",
        "\n",
        "path= '/content/Sales-Reporting/data'\n",
        "folder = os.listdir(path)\n",
        "url = []\n",
        "listdata = []\n",
        "len_data = []\n",
        "#get url \n",
        "for file in folder:\n",
        "  if file.endswith('.csv'):\n",
        "    url.append(path+'/'+file)\n",
        "#merge file\n",
        "for i in range(len(url)):\n",
        "  data = pd.read_csv(url[i])\n",
        "  len_data.append(len(data))\n",
        "  listdata.append(data)\n",
        "  df= pd.concat(listdata, ignore_index=True)\n"
      ],
      "execution_count": 3,
      "outputs": []
    },
    {
      "cell_type": "code",
      "metadata": {
        "colab": {
          "base_uri": "https://localhost:8080/"
        },
        "id": "U80VFQQxo2JB",
        "outputId": "2b285932-0775-4e35-f486-6668b4fb5813"
      },
      "source": [
        "#check length\n",
        "len(df) ==  sum(len_data)"
      ],
      "execution_count": 4,
      "outputs": [
        {
          "output_type": "execute_result",
          "data": {
            "text/plain": [
              "True"
            ]
          },
          "metadata": {
            "tags": []
          },
          "execution_count": 4
        }
      ]
    },
    {
      "cell_type": "code",
      "metadata": {
        "id": "wL3_xIAPpAkF"
      },
      "source": [
        "#save as new file\n",
        "df.to_csv('combined_sale_2019.csv', index=False)"
      ],
      "execution_count": 5,
      "outputs": []
    },
    {
      "cell_type": "markdown",
      "metadata": {
        "id": "Z-3uAobWxOEf"
      },
      "source": [
        "### **Question**\n",
        "1. What is the best month for sales?\n",
        "   How much was earned that month?\n",
        "2. What city has best sales?\n",
        "3. What time should we display ads to maxiumize the likelihood of customer's buying product?\n",
        "4. What products are most often sold together?\n",
        "5. What product sold the most?\n",
        "   Why should you think it sold the most?\n",
        "   \n"
      ]
    },
    {
      "cell_type": "markdown",
      "metadata": {
        "id": "KLLj3lkzytmc"
      },
      "source": [
        "### **DATA PREPROCESSING**"
      ]
    },
    {
      "cell_type": "markdown",
      "metadata": {
        "id": "TjorSu4hi7Zi"
      },
      "source": [
        "**Remove NA and Duplicate**"
      ]
    },
    {
      "cell_type": "code",
      "metadata": {
        "colab": {
          "base_uri": "https://localhost:8080/"
        },
        "id": "-KVZgaWTizBw",
        "outputId": "816fb7bc-5b87-40da-800c-4d885ee5ee40"
      },
      "source": [
        "file_data = input('Input file data to analysis:')\n",
        "df =  pd.read_csv(file_data)"
      ],
      "execution_count": 23,
      "outputs": [
        {
          "output_type": "stream",
          "text": [
            "Input file data to analysis:/content/combined_sale_2019.csv\n"
          ],
          "name": "stdout"
        }
      ]
    },
    {
      "cell_type": "code",
      "metadata": {
        "id": "x9id0f02iziS"
      },
      "source": [
        "#remove NA rows\n",
        "df = df[~df['Order ID'].isna()]\n",
        "\n",
        "#remove duplicate rows\n",
        "df = df[~(df['Order ID'] == 'Order ID')]"
      ],
      "execution_count": 36,
      "outputs": []
    },
    {
      "cell_type": "markdown",
      "metadata": {
        "id": "h4spha_2lHra"
      },
      "source": [
        "**Convert cols to right dtype**\n"
      ]
    },
    {
      "cell_type": "code",
      "metadata": {
        "colab": {
          "base_uri": "https://localhost:8080/"
        },
        "id": "7px3SfdFkLOM",
        "outputId": "581f7f4a-8cd8-4d6a-dd45-9373f9376d3b"
      },
      "source": [
        "df.info()"
      ],
      "execution_count": 37,
      "outputs": [
        {
          "output_type": "stream",
          "text": [
            "<class 'pandas.core.frame.DataFrame'>\n",
            "Int64Index: 185950 entries, 0 to 186849\n",
            "Data columns (total 6 columns):\n",
            " #   Column            Non-Null Count   Dtype \n",
            "---  ------            --------------   ----- \n",
            " 0   Order ID          185950 non-null  object\n",
            " 1   Product           185950 non-null  object\n",
            " 2   Quantity Ordered  185950 non-null  object\n",
            " 3   Price Each        185950 non-null  object\n",
            " 4   Order Date        185950 non-null  object\n",
            " 5   Purchase Address  185950 non-null  object\n",
            "dtypes: object(6)\n",
            "memory usage: 9.9+ MB\n"
          ],
          "name": "stdout"
        }
      ]
    },
    {
      "cell_type": "code",
      "metadata": {
        "id": "fI40pSANlSSm"
      },
      "source": [
        "#convert Quantity Ordered to integer\n",
        "df['Quantity Ordered'] = pd.to_numeric(df['Quantity Ordered'],downcast='integer')\n",
        "\n",
        "#convert Price Each to float\n",
        "df['Price Each'] = pd.to_numeric(df['Price Each'],downcast='float')\n",
        "\n",
        "#convert Order Date to datetime\n",
        "df['Order Date'] = pd.to_datetime(df['Order Date'],yearfirst=True)"
      ],
      "execution_count": 39,
      "outputs": []
    },
    {
      "cell_type": "code",
      "metadata": {
        "colab": {
          "base_uri": "https://localhost:8080/"
        },
        "id": "DjWRlJ8OmBDW",
        "outputId": "579f2a38-cb34-4fb5-d4cc-9a8aa40d52bd"
      },
      "source": [
        "df.info()"
      ],
      "execution_count": 40,
      "outputs": [
        {
          "output_type": "stream",
          "text": [
            "<class 'pandas.core.frame.DataFrame'>\n",
            "Int64Index: 185950 entries, 0 to 186849\n",
            "Data columns (total 6 columns):\n",
            " #   Column            Non-Null Count   Dtype         \n",
            "---  ------            --------------   -----         \n",
            " 0   Order ID          185950 non-null  object        \n",
            " 1   Product           185950 non-null  object        \n",
            " 2   Quantity Ordered  185950 non-null  int8          \n",
            " 3   Price Each        185950 non-null  float32       \n",
            " 4   Order Date        185950 non-null  datetime64[ns]\n",
            " 5   Purchase Address  185950 non-null  object        \n",
            "dtypes: datetime64[ns](1), float32(1), int8(1), object(3)\n",
            "memory usage: 8.0+ MB\n"
          ],
          "name": "stdout"
        }
      ]
    },
    {
      "cell_type": "markdown",
      "metadata": {
        "id": "xn40zGdHmUbR"
      },
      "source": [
        "**Q1: What is the best month for sales? How much was earned that month?**"
      ]
    },
    {
      "cell_type": "code",
      "metadata": {
        "id": "UdToB_AEmOQD"
      },
      "source": [
        "#create month cols\n",
        "df['Month'] = df['Order Date'].dt.month\n",
        "#create sales cols = Price Each * Quantity Ordered\n",
        "df['Sales'] = df['Price Each'] * df['Quantity Ordered']"
      ],
      "execution_count": 44,
      "outputs": []
    },
    {
      "cell_type": "code",
      "metadata": {
        "colab": {
          "base_uri": "https://localhost:8080/",
          "height": 306
        },
        "id": "-Xtrt0yOmfeA",
        "outputId": "63f93d8a-acce-4260-b22f-f03fef2a2358"
      },
      "source": [
        "df.head()"
      ],
      "execution_count": 45,
      "outputs": [
        {
          "output_type": "execute_result",
          "data": {
            "text/html": [
              "<div>\n",
              "<style scoped>\n",
              "    .dataframe tbody tr th:only-of-type {\n",
              "        vertical-align: middle;\n",
              "    }\n",
              "\n",
              "    .dataframe tbody tr th {\n",
              "        vertical-align: top;\n",
              "    }\n",
              "\n",
              "    .dataframe thead th {\n",
              "        text-align: right;\n",
              "    }\n",
              "</style>\n",
              "<table border=\"1\" class=\"dataframe\">\n",
              "  <thead>\n",
              "    <tr style=\"text-align: right;\">\n",
              "      <th></th>\n",
              "      <th>Order ID</th>\n",
              "      <th>Product</th>\n",
              "      <th>Quantity Ordered</th>\n",
              "      <th>Price Each</th>\n",
              "      <th>Order Date</th>\n",
              "      <th>Purchase Address</th>\n",
              "      <th>Month</th>\n",
              "      <th>Sales</th>\n",
              "    </tr>\n",
              "  </thead>\n",
              "  <tbody>\n",
              "    <tr>\n",
              "      <th>0</th>\n",
              "      <td>236670</td>\n",
              "      <td>Wired Headphones</td>\n",
              "      <td>2</td>\n",
              "      <td>11.990000</td>\n",
              "      <td>2019-08-31 22:21:00</td>\n",
              "      <td>359 Spruce St, Seattle, WA 98101</td>\n",
              "      <td>8</td>\n",
              "      <td>23.980000</td>\n",
              "    </tr>\n",
              "    <tr>\n",
              "      <th>1</th>\n",
              "      <td>236671</td>\n",
              "      <td>Bose SoundSport Headphones</td>\n",
              "      <td>1</td>\n",
              "      <td>99.989998</td>\n",
              "      <td>2019-08-15 15:11:00</td>\n",
              "      <td>492 Ridge St, Dallas, TX 75001</td>\n",
              "      <td>8</td>\n",
              "      <td>99.989998</td>\n",
              "    </tr>\n",
              "    <tr>\n",
              "      <th>2</th>\n",
              "      <td>236672</td>\n",
              "      <td>iPhone</td>\n",
              "      <td>1</td>\n",
              "      <td>700.000000</td>\n",
              "      <td>2008-06-19 14:40:00</td>\n",
              "      <td>149 7th St, Portland, OR 97035</td>\n",
              "      <td>6</td>\n",
              "      <td>700.000000</td>\n",
              "    </tr>\n",
              "    <tr>\n",
              "      <th>3</th>\n",
              "      <td>236673</td>\n",
              "      <td>AA Batteries (4-pack)</td>\n",
              "      <td>2</td>\n",
              "      <td>3.840000</td>\n",
              "      <td>2019-08-29 20:59:00</td>\n",
              "      <td>631 2nd St, Los Angeles, CA 90001</td>\n",
              "      <td>8</td>\n",
              "      <td>7.680000</td>\n",
              "    </tr>\n",
              "    <tr>\n",
              "      <th>4</th>\n",
              "      <td>236674</td>\n",
              "      <td>AA Batteries (4-pack)</td>\n",
              "      <td>2</td>\n",
              "      <td>3.840000</td>\n",
              "      <td>2019-08-15 19:53:00</td>\n",
              "      <td>736 14th St, New York City, NY 10001</td>\n",
              "      <td>8</td>\n",
              "      <td>7.680000</td>\n",
              "    </tr>\n",
              "  </tbody>\n",
              "</table>\n",
              "</div>"
            ],
            "text/plain": [
              "  Order ID                     Product  ...  Month       Sales\n",
              "0   236670            Wired Headphones  ...      8   23.980000\n",
              "1   236671  Bose SoundSport Headphones  ...      8   99.989998\n",
              "2   236672                      iPhone  ...      6  700.000000\n",
              "3   236673       AA Batteries (4-pack)  ...      8    7.680000\n",
              "4   236674       AA Batteries (4-pack)  ...      8    7.680000\n",
              "\n",
              "[5 rows x 8 columns]"
            ]
          },
          "metadata": {
            "tags": []
          },
          "execution_count": 45
        }
      ]
    },
    {
      "cell_type": "code",
      "metadata": {
        "colab": {
          "base_uri": "https://localhost:8080/"
        },
        "id": "hfglJuWimoNK",
        "outputId": "5f0a95f0-2327-4bbb-fc87-f4731f18795e"
      },
      "source": [
        "sale_by_month = df.groupby('Month').sum()['Sales'].to_frame()\n",
        "best_sale_month = sale_by_month['Sales'].idxmax()\n",
        "best_sale_value = sale_by_month['Sales'].max()\n",
        "print(f'The month {best_sale_month} have the highest sales {best_sale_value} ')\n"
      ],
      "execution_count": 190,
      "outputs": [
        {
          "output_type": "stream",
          "text": [
            "The month 12 have the highest sales 3925406.75 \n"
          ],
          "name": "stdout"
        }
      ]
    },
    {
      "cell_type": "code",
      "metadata": {
        "colab": {
          "base_uri": "https://localhost:8080/",
          "height": 423
        },
        "id": "79NUeyVfnNkt",
        "outputId": "5f5ed715-4bf7-484f-9291-fa42c523ca89"
      },
      "source": [
        "#visualize by plt\n",
        "plt.figure(figsize=(10,4), dpi=100)\n",
        "plt.bar(x=sale_by_month.index, height=sale_by_month['Sales'])\n",
        "plt.xticks(sale_by_month.index)\n",
        "plt.title('Sale by month', fontsize=15, color='red')\n",
        "plt.xlabel('Month')\n",
        "plt.ylabel('Mil USD')"
      ],
      "execution_count": 106,
      "outputs": [
        {
          "output_type": "execute_result",
          "data": {
            "text/plain": [
              "Text(0, 0.5, 'Mil USD')"
            ]
          },
          "metadata": {
            "tags": []
          },
          "execution_count": 106
        },
        {
          "output_type": "display_data",
          "data": {
            "image/png": "[encoded data removed]",
            "text/plain": [
              "<Figure size 1000x400 with 1 Axes>"
            ]
          },
          "metadata": {
            "tags": [],
            "needs_background": "light"
          }
        }
      ]
    },
    {
      "cell_type": "markdown",
      "metadata": {
        "id": "vl1_XJvWu4Zr"
      },
      "source": [
        "**Q2: What city has best sales?**"
      ]
    },
    {
      "cell_type": "code",
      "metadata": {
        "colab": {
          "base_uri": "https://localhost:8080/",
          "height": 306
        },
        "id": "cf_rnIxusgnq",
        "outputId": "d9922a1e-a488-422a-efa5-1d730c005a98"
      },
      "source": [
        "df.head()"
      ],
      "execution_count": 107,
      "outputs": [
        {
          "output_type": "execute_result",
          "data": {
            "text/html": [
              "<div>\n",
              "<style scoped>\n",
              "    .dataframe tbody tr th:only-of-type {\n",
              "        vertical-align: middle;\n",
              "    }\n",
              "\n",
              "    .dataframe tbody tr th {\n",
              "        vertical-align: top;\n",
              "    }\n",
              "\n",
              "    .dataframe thead th {\n",
              "        text-align: right;\n",
              "    }\n",
              "</style>\n",
              "<table border=\"1\" class=\"dataframe\">\n",
              "  <thead>\n",
              "    <tr style=\"text-align: right;\">\n",
              "      <th></th>\n",
              "      <th>Order ID</th>\n",
              "      <th>Product</th>\n",
              "      <th>Quantity Ordered</th>\n",
              "      <th>Price Each</th>\n",
              "      <th>Order Date</th>\n",
              "      <th>Purchase Address</th>\n",
              "      <th>Month</th>\n",
              "      <th>Sales</th>\n",
              "    </tr>\n",
              "  </thead>\n",
              "  <tbody>\n",
              "    <tr>\n",
              "      <th>0</th>\n",
              "      <td>236670</td>\n",
              "      <td>Wired Headphones</td>\n",
              "      <td>2</td>\n",
              "      <td>11.990000</td>\n",
              "      <td>2019-08-31 22:21:00</td>\n",
              "      <td>359 Spruce St, Seattle, WA 98101</td>\n",
              "      <td>8</td>\n",
              "      <td>23.980000</td>\n",
              "    </tr>\n",
              "    <tr>\n",
              "      <th>1</th>\n",
              "      <td>236671</td>\n",
              "      <td>Bose SoundSport Headphones</td>\n",
              "      <td>1</td>\n",
              "      <td>99.989998</td>\n",
              "      <td>2019-08-15 15:11:00</td>\n",
              "      <td>492 Ridge St, Dallas, TX 75001</td>\n",
              "      <td>8</td>\n",
              "      <td>99.989998</td>\n",
              "    </tr>\n",
              "    <tr>\n",
              "      <th>2</th>\n",
              "      <td>236672</td>\n",
              "      <td>iPhone</td>\n",
              "      <td>1</td>\n",
              "      <td>700.000000</td>\n",
              "      <td>2008-06-19 14:40:00</td>\n",
              "      <td>149 7th St, Portland, OR 97035</td>\n",
              "      <td>6</td>\n",
              "      <td>700.000000</td>\n",
              "    </tr>\n",
              "    <tr>\n",
              "      <th>3</th>\n",
              "      <td>236673</td>\n",
              "      <td>AA Batteries (4-pack)</td>\n",
              "      <td>2</td>\n",
              "      <td>3.840000</td>\n",
              "      <td>2019-08-29 20:59:00</td>\n",
              "      <td>631 2nd St, Los Angeles, CA 90001</td>\n",
              "      <td>8</td>\n",
              "      <td>7.680000</td>\n",
              "    </tr>\n",
              "    <tr>\n",
              "      <th>4</th>\n",
              "      <td>236674</td>\n",
              "      <td>AA Batteries (4-pack)</td>\n",
              "      <td>2</td>\n",
              "      <td>3.840000</td>\n",
              "      <td>2019-08-15 19:53:00</td>\n",
              "      <td>736 14th St, New York City, NY 10001</td>\n",
              "      <td>8</td>\n",
              "      <td>7.680000</td>\n",
              "    </tr>\n",
              "  </tbody>\n",
              "</table>\n",
              "</div>"
            ],
            "text/plain": [
              "  Order ID                     Product  ...  Month       Sales\n",
              "0   236670            Wired Headphones  ...      8   23.980000\n",
              "1   236671  Bose SoundSport Headphones  ...      8   99.989998\n",
              "2   236672                      iPhone  ...      6  700.000000\n",
              "3   236673       AA Batteries (4-pack)  ...      8    7.680000\n",
              "4   236674       AA Batteries (4-pack)  ...      8    7.680000\n",
              "\n",
              "[5 rows x 8 columns]"
            ]
          },
          "metadata": {
            "tags": []
          },
          "execution_count": 107
        }
      ]
    },
    {
      "cell_type": "code",
      "metadata": {
        "id": "0BibLs4du75K"
      },
      "source": [
        "#extract cols city from Purchase Address\n",
        "df['City'] = df['Purchase Address'].str.split(',').str[1]"
      ],
      "execution_count": 110,
      "outputs": []
    },
    {
      "cell_type": "code",
      "metadata": {
        "colab": {
          "base_uri": "https://localhost:8080/",
          "height": 345
        },
        "id": "FoPxsXT9vHQu",
        "outputId": "bd76c7d0-b10c-44c2-d658-8d3f802c4ac6"
      },
      "source": [
        "sale_by_city = df.groupby('City').sum()['Sales'].to_frame().reset_index()\n",
        "CitySalesMax = sale_by_city[sale_by_city['Sales']==sale_by_city['Sales'].max()]\n",
        "\n",
        "print(f\"The City {CitySalesMax['City'].iloc[0]} have the highest sales {CitySalesMax['Sales'].iloc[0]} \")\n",
        "sale_by_city"
      ],
      "execution_count": 156,
      "outputs": [
        {
          "output_type": "stream",
          "text": [
            "The City  San Francisco have the highest sales 8262204.0 \n"
          ],
          "name": "stdout"
        },
        {
          "output_type": "execute_result",
          "data": {
            "text/html": [
              "<div>\n",
              "<style scoped>\n",
              "    .dataframe tbody tr th:only-of-type {\n",
              "        vertical-align: middle;\n",
              "    }\n",
              "\n",
              "    .dataframe tbody tr th {\n",
              "        vertical-align: top;\n",
              "    }\n",
              "\n",
              "    .dataframe thead th {\n",
              "        text-align: right;\n",
              "    }\n",
              "</style>\n",
              "<table border=\"1\" class=\"dataframe\">\n",
              "  <thead>\n",
              "    <tr style=\"text-align: right;\">\n",
              "      <th></th>\n",
              "      <th>City</th>\n",
              "      <th>Sales</th>\n",
              "    </tr>\n",
              "  </thead>\n",
              "  <tbody>\n",
              "    <tr>\n",
              "      <th>0</th>\n",
              "      <td>Atlanta</td>\n",
              "      <td>2795498.50</td>\n",
              "    </tr>\n",
              "    <tr>\n",
              "      <th>1</th>\n",
              "      <td>Austin</td>\n",
              "      <td>1819581.75</td>\n",
              "    </tr>\n",
              "    <tr>\n",
              "      <th>2</th>\n",
              "      <td>Boston</td>\n",
              "      <td>3661642.00</td>\n",
              "    </tr>\n",
              "    <tr>\n",
              "      <th>3</th>\n",
              "      <td>Dallas</td>\n",
              "      <td>2767975.50</td>\n",
              "    </tr>\n",
              "    <tr>\n",
              "      <th>4</th>\n",
              "      <td>Los Angeles</td>\n",
              "      <td>5452571.00</td>\n",
              "    </tr>\n",
              "    <tr>\n",
              "      <th>5</th>\n",
              "      <td>New York City</td>\n",
              "      <td>4664317.50</td>\n",
              "    </tr>\n",
              "    <tr>\n",
              "      <th>6</th>\n",
              "      <td>Portland</td>\n",
              "      <td>2320490.50</td>\n",
              "    </tr>\n",
              "    <tr>\n",
              "      <th>7</th>\n",
              "      <td>San Francisco</td>\n",
              "      <td>8262204.00</td>\n",
              "    </tr>\n",
              "    <tr>\n",
              "      <th>8</th>\n",
              "      <td>Seattle</td>\n",
              "      <td>2747755.50</td>\n",
              "    </tr>\n",
              "  </tbody>\n",
              "</table>\n",
              "</div>"
            ],
            "text/plain": [
              "             City       Sales\n",
              "0         Atlanta  2795498.50\n",
              "1          Austin  1819581.75\n",
              "2          Boston  3661642.00\n",
              "3          Dallas  2767975.50\n",
              "4     Los Angeles  5452571.00\n",
              "5   New York City  4664317.50\n",
              "6        Portland  2320490.50\n",
              "7   San Francisco  8262204.00\n",
              "8         Seattle  2747755.50"
            ]
          },
          "metadata": {
            "tags": []
          },
          "execution_count": 156
        }
      ]
    },
    {
      "cell_type": "code",
      "metadata": {
        "colab": {
          "base_uri": "https://localhost:8080/",
          "height": 499
        },
        "id": "rrfvyTumvQl0",
        "outputId": "d5dedadc-f8f7-4247-da65-317dbf4ee3a5"
      },
      "source": [
        "#use seaborn to visualize\n",
        "plt.figure(figsize=(10,4), dpi=100)\n",
        "sns.barplot(x=sale_by_city['City'],\n",
        "            y=sale_by_city['Sales'],\n",
        "            data=sale_by_city,\n",
        "            order=sale_by_city.sort_values('Sales').City\n",
        "          )\n",
        "plt.xlabel('City', fontsize=15, color='red')\n",
        "plt.ylabel('Sales', fontsize=15, color='red')\n",
        "plt.xticks(rotation=45)\n",
        "plt.title('Sales by City',fontsize=18, color='red')"
      ],
      "execution_count": 157,
      "outputs": [
        {
          "output_type": "execute_result",
          "data": {
            "text/plain": [
              "Text(0.5, 1.0, 'Sales by City')"
            ]
          },
          "metadata": {
            "tags": []
          },
          "execution_count": 157
        },
        {
          "output_type": "display_data",
          "data": {
            "image/png": "[encoded data removed]",
            "text/plain": [
              "<Figure size 1000x400 with 1 Axes>"
            ]
          },
          "metadata": {
            "tags": [],
            "needs_background": "light"
          }
        }
      ]
    },
    {
      "cell_type": "markdown",
      "metadata": {
        "id": "jbVQc_tq1QMU"
      },
      "source": [
        "**Q3:What time should we display ads to maxiumize the likelihood of customer's buying product?**"
      ]
    },
    {
      "cell_type": "code",
      "metadata": {
        "id": "H3LzZEAJvoTW"
      },
      "source": [
        "df['Hour'] = df['Order Date'].dt.hour\n",
        "total_order_sale_by_hours  = df.groupby('Hour').count()['Order ID'].to_frame().reset_index()\n",
        "total_order_sale_by_hours = total_order_sale_by_hours.rename(columns={'Order ID':'Total Order'})"
      ],
      "execution_count": 175,
      "outputs": []
    },
    {
      "cell_type": "code",
      "metadata": {
        "colab": {
          "base_uri": "https://localhost:8080/",
          "height": 432
        },
        "id": "pCzMJpKQwwpZ",
        "outputId": "e14135b3-dae9-43f8-8ecc-604d02610d51"
      },
      "source": [
        "plt.figure(figsize=(10,4), dpi=100)\n",
        "sns.lineplot(x=total_order_sale_by_hours['Hour'],\n",
        "            y=total_order_sale_by_hours['Total Order'],\n",
        "            data=total_order_sale_by_hours,\n",
        "           )\n",
        "\n",
        "plt.xlabel('Hour in day', fontsize=15, color='red')\n",
        "plt.ylabel('Total Order', fontsize=15, color='red')\n",
        "plt.xticks(total_order_sale_by_hours['Hour'])\n",
        "plt.grid()\n",
        "plt.title('Total Order by Hour',fontsize=18, color='red')"
      ],
      "execution_count": 179,
      "outputs": [
        {
          "output_type": "execute_result",
          "data": {
            "text/plain": [
              "Text(0.5, 1.0, 'Total Order by Hour')"
            ]
          },
          "metadata": {
            "tags": []
          },
          "execution_count": 179
        },
        {
          "output_type": "display_data",
          "data": {
            "image/png": "[encoded data removed]",
            "text/plain": [
              "<Figure size 1000x400 with 1 Axes>"
            ]
          },
          "metadata": {
            "tags": [],
            "needs_background": "light"
          }
        }
      ]
    },
    {
      "cell_type": "code",
      "metadata": {
        "colab": {
          "base_uri": "https://localhost:8080/",
          "height": 221
        },
        "id": "PmBSY--x2c0y",
        "outputId": "99d6fac8-7155-46ba-e560-128edd49dbd2"
      },
      "source": [
        "print('top 5 time for sale. We should ads on before this time 30 mins')\n",
        "total_order_sale_by_hours.nlargest(5, columns='Total Order')"
      ],
      "execution_count": 181,
      "outputs": [
        {
          "output_type": "stream",
          "text": [
            "top 5 time for sale. We should ads on before this time 30 mins\n"
          ],
          "name": "stdout"
        },
        {
          "output_type": "execute_result",
          "data": {
            "text/html": [
              "<div>\n",
              "<style scoped>\n",
              "    .dataframe tbody tr th:only-of-type {\n",
              "        vertical-align: middle;\n",
              "    }\n",
              "\n",
              "    .dataframe tbody tr th {\n",
              "        vertical-align: top;\n",
              "    }\n",
              "\n",
              "    .dataframe thead th {\n",
              "        text-align: right;\n",
              "    }\n",
              "</style>\n",
              "<table border=\"1\" class=\"dataframe\">\n",
              "  <thead>\n",
              "    <tr style=\"text-align: right;\">\n",
              "      <th></th>\n",
              "      <th>Hour</th>\n",
              "      <th>Total Order</th>\n",
              "    </tr>\n",
              "  </thead>\n",
              "  <tbody>\n",
              "    <tr>\n",
              "      <th>19</th>\n",
              "      <td>19</td>\n",
              "      <td>12905</td>\n",
              "    </tr>\n",
              "    <tr>\n",
              "      <th>12</th>\n",
              "      <td>12</td>\n",
              "      <td>12587</td>\n",
              "    </tr>\n",
              "    <tr>\n",
              "      <th>11</th>\n",
              "      <td>11</td>\n",
              "      <td>12411</td>\n",
              "    </tr>\n",
              "    <tr>\n",
              "      <th>18</th>\n",
              "      <td>18</td>\n",
              "      <td>12280</td>\n",
              "    </tr>\n",
              "    <tr>\n",
              "      <th>20</th>\n",
              "      <td>20</td>\n",
              "      <td>12228</td>\n",
              "    </tr>\n",
              "  </tbody>\n",
              "</table>\n",
              "</div>"
            ],
            "text/plain": [
              "    Hour  Total Order\n",
              "19    19        12905\n",
              "12    12        12587\n",
              "11    11        12411\n",
              "18    18        12280\n",
              "20    20        12228"
            ]
          },
          "metadata": {
            "tags": []
          },
          "execution_count": 181
        }
      ]
    },
    {
      "cell_type": "markdown",
      "metadata": {
        "id": "ytk9ECiK5Qlg"
      },
      "source": [
        "**Q4: What product are most often bought together?**"
      ]
    },
    {
      "cell_type": "code",
      "metadata": {
        "colab": {
          "base_uri": "https://localhost:8080/",
          "height": 306
        },
        "id": "jwhZbcBd35oO",
        "outputId": "d7e28aa4-1172-4c77-88b3-f78f664c9a7c"
      },
      "source": [
        "df.head()"
      ],
      "execution_count": 182,
      "outputs": [
        {
          "output_type": "execute_result",
          "data": {
            "text/html": [
              "<div>\n",
              "<style scoped>\n",
              "    .dataframe tbody tr th:only-of-type {\n",
              "        vertical-align: middle;\n",
              "    }\n",
              "\n",
              "    .dataframe tbody tr th {\n",
              "        vertical-align: top;\n",
              "    }\n",
              "\n",
              "    .dataframe thead th {\n",
              "        text-align: right;\n",
              "    }\n",
              "</style>\n",
              "<table border=\"1\" class=\"dataframe\">\n",
              "  <thead>\n",
              "    <tr style=\"text-align: right;\">\n",
              "      <th></th>\n",
              "      <th>Order ID</th>\n",
              "      <th>Product</th>\n",
              "      <th>Quantity Ordered</th>\n",
              "      <th>Price Each</th>\n",
              "      <th>Order Date</th>\n",
              "      <th>Purchase Address</th>\n",
              "      <th>Month</th>\n",
              "      <th>Sales</th>\n",
              "      <th>City</th>\n",
              "      <th>Hour</th>\n",
              "    </tr>\n",
              "  </thead>\n",
              "  <tbody>\n",
              "    <tr>\n",
              "      <th>0</th>\n",
              "      <td>236670</td>\n",
              "      <td>Wired Headphones</td>\n",
              "      <td>2</td>\n",
              "      <td>11.990000</td>\n",
              "      <td>2019-08-31 22:21:00</td>\n",
              "      <td>359 Spruce St, Seattle, WA 98101</td>\n",
              "      <td>8</td>\n",
              "      <td>23.980000</td>\n",
              "      <td>Seattle</td>\n",
              "      <td>22</td>\n",
              "    </tr>\n",
              "    <tr>\n",
              "      <th>1</th>\n",
              "      <td>236671</td>\n",
              "      <td>Bose SoundSport Headphones</td>\n",
              "      <td>1</td>\n",
              "      <td>99.989998</td>\n",
              "      <td>2019-08-15 15:11:00</td>\n",
              "      <td>492 Ridge St, Dallas, TX 75001</td>\n",
              "      <td>8</td>\n",
              "      <td>99.989998</td>\n",
              "      <td>Dallas</td>\n",
              "      <td>15</td>\n",
              "    </tr>\n",
              "    <tr>\n",
              "      <th>2</th>\n",
              "      <td>236672</td>\n",
              "      <td>iPhone</td>\n",
              "      <td>1</td>\n",
              "      <td>700.000000</td>\n",
              "      <td>2008-06-19 14:40:00</td>\n",
              "      <td>149 7th St, Portland, OR 97035</td>\n",
              "      <td>6</td>\n",
              "      <td>700.000000</td>\n",
              "      <td>Portland</td>\n",
              "      <td>14</td>\n",
              "    </tr>\n",
              "    <tr>\n",
              "      <th>3</th>\n",
              "      <td>236673</td>\n",
              "      <td>AA Batteries (4-pack)</td>\n",
              "      <td>2</td>\n",
              "      <td>3.840000</td>\n",
              "      <td>2019-08-29 20:59:00</td>\n",
              "      <td>631 2nd St, Los Angeles, CA 90001</td>\n",
              "      <td>8</td>\n",
              "      <td>7.680000</td>\n",
              "      <td>Los Angeles</td>\n",
              "      <td>20</td>\n",
              "    </tr>\n",
              "    <tr>\n",
              "      <th>4</th>\n",
              "      <td>236674</td>\n",
              "      <td>AA Batteries (4-pack)</td>\n",
              "      <td>2</td>\n",
              "      <td>3.840000</td>\n",
              "      <td>2019-08-15 19:53:00</td>\n",
              "      <td>736 14th St, New York City, NY 10001</td>\n",
              "      <td>8</td>\n",
              "      <td>7.680000</td>\n",
              "      <td>New York City</td>\n",
              "      <td>19</td>\n",
              "    </tr>\n",
              "  </tbody>\n",
              "</table>\n",
              "</div>"
            ],
            "text/plain": [
              "  Order ID                     Product  ...            City  Hour\n",
              "0   236670            Wired Headphones  ...         Seattle    22\n",
              "1   236671  Bose SoundSport Headphones  ...          Dallas    15\n",
              "2   236672                      iPhone  ...        Portland    14\n",
              "3   236673       AA Batteries (4-pack)  ...     Los Angeles    20\n",
              "4   236674       AA Batteries (4-pack)  ...   New York City    19\n",
              "\n",
              "[5 rows x 10 columns]"
            ]
          },
          "metadata": {
            "tags": []
          },
          "execution_count": 182
        }
      ]
    },
    {
      "cell_type": "code",
      "metadata": {
        "colab": {
          "base_uri": "https://localhost:8080/",
          "height": 323
        },
        "id": "mbHcT9hB57dF",
        "outputId": "5b6be02c-44cf-456b-9762-be6df85fa19c"
      },
      "source": [
        "#get duplicate rows\n",
        "df_dup = df[df['Order ID'].duplicated(keep=False)]\n",
        "print(len(df_dup))\n",
        "df_dup.head()"
      ],
      "execution_count": 220,
      "outputs": [
        {
          "output_type": "stream",
          "text": [
            "14649\n"
          ],
          "name": "stdout"
        },
        {
          "output_type": "execute_result",
          "data": {
            "text/html": [
              "<div>\n",
              "<style scoped>\n",
              "    .dataframe tbody tr th:only-of-type {\n",
              "        vertical-align: middle;\n",
              "    }\n",
              "\n",
              "    .dataframe tbody tr th {\n",
              "        vertical-align: top;\n",
              "    }\n",
              "\n",
              "    .dataframe thead th {\n",
              "        text-align: right;\n",
              "    }\n",
              "</style>\n",
              "<table border=\"1\" class=\"dataframe\">\n",
              "  <thead>\n",
              "    <tr style=\"text-align: right;\">\n",
              "      <th></th>\n",
              "      <th>Order ID</th>\n",
              "      <th>Product</th>\n",
              "      <th>Quantity Ordered</th>\n",
              "      <th>Price Each</th>\n",
              "      <th>Order Date</th>\n",
              "      <th>Purchase Address</th>\n",
              "      <th>Month</th>\n",
              "      <th>Sales</th>\n",
              "      <th>City</th>\n",
              "      <th>Hour</th>\n",
              "    </tr>\n",
              "  </thead>\n",
              "  <tbody>\n",
              "    <tr>\n",
              "      <th>46</th>\n",
              "      <td>236716</td>\n",
              "      <td>AA Batteries (4-pack)</td>\n",
              "      <td>2</td>\n",
              "      <td>3.84</td>\n",
              "      <td>2019-08-17 20:12:00</td>\n",
              "      <td>84 Cedar St, San Francisco, CA 94016</td>\n",
              "      <td>8</td>\n",
              "      <td>7.68</td>\n",
              "      <td>San Francisco</td>\n",
              "      <td>20</td>\n",
              "    </tr>\n",
              "    <tr>\n",
              "      <th>47</th>\n",
              "      <td>236716</td>\n",
              "      <td>USB-C Charging Cable</td>\n",
              "      <td>1</td>\n",
              "      <td>11.95</td>\n",
              "      <td>2019-08-17 20:12:00</td>\n",
              "      <td>84 Cedar St, San Francisco, CA 94016</td>\n",
              "      <td>8</td>\n",
              "      <td>11.95</td>\n",
              "      <td>San Francisco</td>\n",
              "      <td>20</td>\n",
              "    </tr>\n",
              "    <tr>\n",
              "      <th>60</th>\n",
              "      <td>236729</td>\n",
              "      <td>iPhone</td>\n",
              "      <td>1</td>\n",
              "      <td>700.00</td>\n",
              "      <td>2008-09-19 09:28:00</td>\n",
              "      <td>635 Lake St, San Francisco, CA 94016</td>\n",
              "      <td>9</td>\n",
              "      <td>700.00</td>\n",
              "      <td>San Francisco</td>\n",
              "      <td>9</td>\n",
              "    </tr>\n",
              "    <tr>\n",
              "      <th>61</th>\n",
              "      <td>236729</td>\n",
              "      <td>Apple Airpods Headphones</td>\n",
              "      <td>1</td>\n",
              "      <td>150.00</td>\n",
              "      <td>2008-09-19 09:28:00</td>\n",
              "      <td>635 Lake St, San Francisco, CA 94016</td>\n",
              "      <td>9</td>\n",
              "      <td>150.00</td>\n",
              "      <td>San Francisco</td>\n",
              "      <td>9</td>\n",
              "    </tr>\n",
              "    <tr>\n",
              "      <th>62</th>\n",
              "      <td>236730</td>\n",
              "      <td>Google Phone</td>\n",
              "      <td>1</td>\n",
              "      <td>600.00</td>\n",
              "      <td>2008-02-19 10:17:00</td>\n",
              "      <td>445 Lincoln St, New York City, NY 10001</td>\n",
              "      <td>2</td>\n",
              "      <td>600.00</td>\n",
              "      <td>New York City</td>\n",
              "      <td>10</td>\n",
              "    </tr>\n",
              "  </tbody>\n",
              "</table>\n",
              "</div>"
            ],
            "text/plain": [
              "   Order ID                   Product  ...            City  Hour\n",
              "46   236716     AA Batteries (4-pack)  ...   San Francisco    20\n",
              "47   236716      USB-C Charging Cable  ...   San Francisco    20\n",
              "60   236729                    iPhone  ...   San Francisco     9\n",
              "61   236729  Apple Airpods Headphones  ...   San Francisco     9\n",
              "62   236730              Google Phone  ...   New York City    10\n",
              "\n",
              "[5 rows x 10 columns]"
            ]
          },
          "metadata": {
            "tags": []
          },
          "execution_count": 220
        }
      ]
    },
    {
      "cell_type": "code",
      "metadata": {
        "colab": {
          "base_uri": "https://localhost:8080/",
          "height": 513
        },
        "id": "QmfFA4Gn6Dq1",
        "outputId": "20f6e65a-6b63-433d-9fc9-52b3c253cd00"
      },
      "source": [
        "#group multi row into one\n",
        "def funcc(Product):\n",
        "  return \", \".join(Product)\n",
        "\n",
        "df_dup['All Product'] = df_dup.groupby('Order ID')['Product'].transform(funcc)\n",
        "df_dup.head()"
      ],
      "execution_count": 233,
      "outputs": [
        {
          "output_type": "stream",
          "text": [
            "/usr/local/lib/python3.7/dist-packages/ipykernel_launcher.py:4: SettingWithCopyWarning: \n",
            "A value is trying to be set on a copy of a slice from a DataFrame.\n",
            "Try using .loc[row_indexer,col_indexer] = value instead\n",
            "\n",
            "See the caveats in the documentation: https://pandas.pydata.org/pandas-docs/stable/user_guide/indexing.html#returning-a-view-versus-a-copy\n",
            "  after removing the cwd from sys.path.\n"
          ],
          "name": "stderr"
        },
        {
          "output_type": "execute_result",
          "data": {
            "text/html": [
              "<div>\n",
              "<style scoped>\n",
              "    .dataframe tbody tr th:only-of-type {\n",
              "        vertical-align: middle;\n",
              "    }\n",
              "\n",
              "    .dataframe tbody tr th {\n",
              "        vertical-align: top;\n",
              "    }\n",
              "\n",
              "    .dataframe thead th {\n",
              "        text-align: right;\n",
              "    }\n",
              "</style>\n",
              "<table border=\"1\" class=\"dataframe\">\n",
              "  <thead>\n",
              "    <tr style=\"text-align: right;\">\n",
              "      <th></th>\n",
              "      <th>Order ID</th>\n",
              "      <th>Product</th>\n",
              "      <th>Quantity Ordered</th>\n",
              "      <th>Price Each</th>\n",
              "      <th>Order Date</th>\n",
              "      <th>Purchase Address</th>\n",
              "      <th>Month</th>\n",
              "      <th>Sales</th>\n",
              "      <th>City</th>\n",
              "      <th>Hour</th>\n",
              "      <th>All Product</th>\n",
              "    </tr>\n",
              "  </thead>\n",
              "  <tbody>\n",
              "    <tr>\n",
              "      <th>46</th>\n",
              "      <td>236716</td>\n",
              "      <td>AA Batteries (4-pack)</td>\n",
              "      <td>2</td>\n",
              "      <td>3.84</td>\n",
              "      <td>2019-08-17 20:12:00</td>\n",
              "      <td>84 Cedar St, San Francisco, CA 94016</td>\n",
              "      <td>8</td>\n",
              "      <td>7.68</td>\n",
              "      <td>San Francisco</td>\n",
              "      <td>20</td>\n",
              "      <td>AA Batteries (4-pack), USB-C Charging Cable</td>\n",
              "    </tr>\n",
              "    <tr>\n",
              "      <th>47</th>\n",
              "      <td>236716</td>\n",
              "      <td>USB-C Charging Cable</td>\n",
              "      <td>1</td>\n",
              "      <td>11.95</td>\n",
              "      <td>2019-08-17 20:12:00</td>\n",
              "      <td>84 Cedar St, San Francisco, CA 94016</td>\n",
              "      <td>8</td>\n",
              "      <td>11.95</td>\n",
              "      <td>San Francisco</td>\n",
              "      <td>20</td>\n",
              "      <td>AA Batteries (4-pack), USB-C Charging Cable</td>\n",
              "    </tr>\n",
              "    <tr>\n",
              "      <th>60</th>\n",
              "      <td>236729</td>\n",
              "      <td>iPhone</td>\n",
              "      <td>1</td>\n",
              "      <td>700.00</td>\n",
              "      <td>2008-09-19 09:28:00</td>\n",
              "      <td>635 Lake St, San Francisco, CA 94016</td>\n",
              "      <td>9</td>\n",
              "      <td>700.00</td>\n",
              "      <td>San Francisco</td>\n",
              "      <td>9</td>\n",
              "      <td>iPhone, Apple Airpods Headphones</td>\n",
              "    </tr>\n",
              "    <tr>\n",
              "      <th>61</th>\n",
              "      <td>236729</td>\n",
              "      <td>Apple Airpods Headphones</td>\n",
              "      <td>1</td>\n",
              "      <td>150.00</td>\n",
              "      <td>2008-09-19 09:28:00</td>\n",
              "      <td>635 Lake St, San Francisco, CA 94016</td>\n",
              "      <td>9</td>\n",
              "      <td>150.00</td>\n",
              "      <td>San Francisco</td>\n",
              "      <td>9</td>\n",
              "      <td>iPhone, Apple Airpods Headphones</td>\n",
              "    </tr>\n",
              "    <tr>\n",
              "      <th>62</th>\n",
              "      <td>236730</td>\n",
              "      <td>Google Phone</td>\n",
              "      <td>1</td>\n",
              "      <td>600.00</td>\n",
              "      <td>2008-02-19 10:17:00</td>\n",
              "      <td>445 Lincoln St, New York City, NY 10001</td>\n",
              "      <td>2</td>\n",
              "      <td>600.00</td>\n",
              "      <td>New York City</td>\n",
              "      <td>10</td>\n",
              "      <td>Google Phone, Wired Headphones</td>\n",
              "    </tr>\n",
              "  </tbody>\n",
              "</table>\n",
              "</div>"
            ],
            "text/plain": [
              "   Order ID  ...                                  All Product\n",
              "46   236716  ...  AA Batteries (4-pack), USB-C Charging Cable\n",
              "47   236716  ...  AA Batteries (4-pack), USB-C Charging Cable\n",
              "60   236729  ...             iPhone, Apple Airpods Headphones\n",
              "61   236729  ...             iPhone, Apple Airpods Headphones\n",
              "62   236730  ...               Google Phone, Wired Headphones\n",
              "\n",
              "[5 rows x 11 columns]"
            ]
          },
          "metadata": {
            "tags": []
          },
          "execution_count": 233
        }
      ]
    },
    {
      "cell_type": "code",
      "metadata": {
        "colab": {
          "base_uri": "https://localhost:8080/",
          "height": 204
        },
        "id": "BGczXD5XEA3h",
        "outputId": "6cc7c6c9-3867-4305-ce9f-41e4e15580c7"
      },
      "source": [
        "df_result = df_dup[['Order ID','All Product']]\n",
        "df_result.head()"
      ],
      "execution_count": 235,
      "outputs": [
        {
          "output_type": "execute_result",
          "data": {
            "text/html": [
              "<div>\n",
              "<style scoped>\n",
              "    .dataframe tbody tr th:only-of-type {\n",
              "        vertical-align: middle;\n",
              "    }\n",
              "\n",
              "    .dataframe tbody tr th {\n",
              "        vertical-align: top;\n",
              "    }\n",
              "\n",
              "    .dataframe thead th {\n",
              "        text-align: right;\n",
              "    }\n",
              "</style>\n",
              "<table border=\"1\" class=\"dataframe\">\n",
              "  <thead>\n",
              "    <tr style=\"text-align: right;\">\n",
              "      <th></th>\n",
              "      <th>Order ID</th>\n",
              "      <th>All Product</th>\n",
              "    </tr>\n",
              "  </thead>\n",
              "  <tbody>\n",
              "    <tr>\n",
              "      <th>46</th>\n",
              "      <td>236716</td>\n",
              "      <td>AA Batteries (4-pack), USB-C Charging Cable</td>\n",
              "    </tr>\n",
              "    <tr>\n",
              "      <th>47</th>\n",
              "      <td>236716</td>\n",
              "      <td>AA Batteries (4-pack), USB-C Charging Cable</td>\n",
              "    </tr>\n",
              "    <tr>\n",
              "      <th>60</th>\n",
              "      <td>236729</td>\n",
              "      <td>iPhone, Apple Airpods Headphones</td>\n",
              "    </tr>\n",
              "    <tr>\n",
              "      <th>61</th>\n",
              "      <td>236729</td>\n",
              "      <td>iPhone, Apple Airpods Headphones</td>\n",
              "    </tr>\n",
              "    <tr>\n",
              "      <th>62</th>\n",
              "      <td>236730</td>\n",
              "      <td>Google Phone, Wired Headphones</td>\n",
              "    </tr>\n",
              "  </tbody>\n",
              "</table>\n",
              "</div>"
            ],
            "text/plain": [
              "   Order ID                                  All Product\n",
              "46   236716  AA Batteries (4-pack), USB-C Charging Cable\n",
              "47   236716  AA Batteries (4-pack), USB-C Charging Cable\n",
              "60   236729             iPhone, Apple Airpods Headphones\n",
              "61   236729             iPhone, Apple Airpods Headphones\n",
              "62   236730               Google Phone, Wired Headphones"
            ]
          },
          "metadata": {
            "tags": []
          },
          "execution_count": 235
        }
      ]
    },
    {
      "cell_type": "markdown",
      "metadata": {
        "id": "wX4H55YeF7W9"
      },
      "source": [
        "**top 10 product sold together**"
      ]
    },
    {
      "cell_type": "code",
      "metadata": {
        "colab": {
          "base_uri": "https://localhost:8080/"
        },
        "id": "fp-j50Y5ECE9",
        "outputId": "d38e9acf-73d1-4f8f-eae0-6b29071aee01"
      },
      "source": [
        "df_result['All Product'].value_counts().head(10)"
      ],
      "execution_count": 244,
      "outputs": [
        {
          "output_type": "execute_result",
          "data": {
            "text/plain": [
              "iPhone, Lightning Charging Cable                        1764\n",
              "Google Phone, USB-C Charging Cable                      1712\n",
              "iPhone, Wired Headphones                                 722\n",
              "Vareebadd Phone, USB-C Charging Cable                    624\n",
              "Google Phone, Wired Headphones                           606\n",
              "iPhone, Apple Airpods Headphones                         572\n",
              "Google Phone, Bose SoundSport Headphones                 322\n",
              "Google Phone, USB-C Charging Cable, Wired Headphones     231\n",
              "Vareebadd Phone, Wired Headphones                        208\n",
              "iPhone, Lightning Charging Cable, Wired Headphones       168\n",
              "Name: All Product, dtype: int64"
            ]
          },
          "metadata": {
            "tags": []
          },
          "execution_count": 244
        }
      ]
    },
    {
      "cell_type": "markdown",
      "metadata": {
        "id": "47iZ2aVRKeGa"
      },
      "source": [
        "**Q5: What product sold the most ? Why do you think it sold the most ?**"
      ]
    },
    {
      "cell_type": "code",
      "metadata": {
        "id": "L2mvv1OAEJhk"
      },
      "source": [
        "sale_by_product = df.groupby('Product').sum()['Quantity Ordered']"
      ],
      "execution_count": 273,
      "outputs": []
    },
    {
      "cell_type": "code",
      "metadata": {
        "id": "TMoh8ftLPEue"
      },
      "source": [
        "price = df.groupby('Product').mean()['Price Each']\n"
      ],
      "execution_count": 277,
      "outputs": []
    },
    {
      "cell_type": "code",
      "metadata": {
        "colab": {
          "base_uri": "https://localhost:8080/",
          "height": 617
        },
        "id": "RHvMnUMyEjD2",
        "outputId": "1a6555f7-33d0-4260-9e9d-5ec86783a5ef"
      },
      "source": [
        "fig = plt.figure(figsize=(10,4), dpi=100)\n",
        "plt.bar(x=sale_by_product.index, height=sale_by_product )\n",
        "plt.xticks(rotation=90)\n",
        "plt.xlabel('Product')\n",
        "plt.ylabel('Quantity')\n",
        "plt.title('Sales Product by Qty')"
      ],
      "execution_count": 275,
      "outputs": [
        {
          "output_type": "execute_result",
          "data": {
            "text/plain": [
              "Text(0.5, 1.0, 'Sales Product by Qty')"
            ]
          },
          "metadata": {
            "tags": []
          },
          "execution_count": 275
        },
        {
          "output_type": "display_data",
          "data": {
            "image/png": "[encoded data removed]",
            "text/plain": [
              "<Figure size 1000x400 with 1 Axes>"
            ]
          },
          "metadata": {
            "tags": [],
            "needs_background": "light"
          }
        }
      ]
    },
    {
      "cell_type": "code",
      "metadata": {
        "colab": {
          "base_uri": "https://localhost:8080/",
          "height": 406
        },
        "id": "PkG_U-HuEtD9",
        "outputId": "d76af39e-2c69-4e5a-cd5c-974bee9234eb"
      },
      "source": [
        "fig, ax1 = plt.subplots(figsize=(13,4))\n",
        "\n",
        "x1=sale_by_product.index\n",
        "y1=sale_by_product.values\n",
        "y2=price.values\n",
        "\n",
        "ax1.bar(x=x1, height=y1 )\n",
        "ax1.set_ylabel(r\"Quantity\", fontsize=18, color=\"blue\")\n",
        "plt.xticks(rotation=90)\n",
        "for label in ax1.get_yticklabels():\n",
        "    label.set_color(\"blue\")\n",
        "    \n",
        "ax2 = ax1.twinx()\n",
        "ax2.plot(x1, y2, lw=2, color=\"red\")\n",
        "ax2.set_ylabel(r\"Price\", fontsize=18, color=\"red\")\n",
        "for label in ax2.get_yticklabels():\n",
        "    label.set_color(\"red\")"
      ],
      "execution_count": 286,
      "outputs": [
        {
          "output_type": "display_data",
          "data": {
            "image/png": "[encoded data removed]",
            "text/plain": [
              "<Figure size 936x288 with 2 Axes>"
            ]
          },
          "metadata": {
            "tags": [],
            "needs_background": "light"
          }
        }
      ]
    },
    {
      "cell_type": "markdown",
      "metadata": {
        "id": "Fp6mQclUMR9u"
      },
      "source": [
        "Hyposis why that product sold the most\n",
        "1. Price\n",
        "2. Branch\n",
        "3. Quality\n",
        "\n",
        "We both know that Price, Branch and Quality are some main reason effect directly to product sold. Based on data, we just have Price to set the hypothesis, so we can make a conclusion that the reason why AA Bateries are sold the most is cheap price.\n",
        " "
      ]
    },
    {
      "cell_type": "code",
      "metadata": {
        "id": "w7S5KQQsnI6P"
      },
      "source": [
        ""
      ],
      "execution_count": null,
      "outputs": []
    }
  ]
}